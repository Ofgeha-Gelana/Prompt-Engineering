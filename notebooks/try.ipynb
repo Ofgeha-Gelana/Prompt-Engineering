{
 "cells": [
  {
   "cell_type": "markdown",
   "metadata": {},
   "source": [
    "### **Enhancing Workplace Productivity Using Advanced Prompting Techniques**\n",
    "\n",
    "#### **Introduction**\n",
    "##### This notebook demonstrates how to leverage advanced prompting techniques to optimize workflow,\n",
    "##### automate tasks, and improve decision-making using a Large Language Model (LLM)."
   ]
  },
  {
   "cell_type": "code",
   "execution_count": 1,
   "metadata": {},
   "outputs": [
    {
     "ename": "ModuleNotFoundError",
     "evalue": "No module named 'google'",
     "output_type": "error",
     "traceback": [
      "\u001b[31m---------------------------------------------------------------------------\u001b[39m",
      "\u001b[31mModuleNotFoundError\u001b[39m                       Traceback (most recent call last)",
      "\u001b[36mCell\u001b[39m\u001b[36m \u001b[39m\u001b[32mIn[1]\u001b[39m\u001b[32m, line 1\u001b[39m\n\u001b[32m----> \u001b[39m\u001b[32m1\u001b[39m \u001b[38;5;28;01mimport\u001b[39;00m\u001b[38;5;250m \u001b[39m\u001b[34;01mgoogle\u001b[39;00m\u001b[34;01m.\u001b[39;00m\u001b[34;01mgenerativeai\u001b[39;00m\u001b[38;5;250m \u001b[39m\u001b[38;5;28;01mas\u001b[39;00m\u001b[38;5;250m \u001b[39m\u001b[34;01mgenai\u001b[39;00m  \u001b[38;5;66;03m# Use Gemini API\u001b[39;00m\n\u001b[32m      2\u001b[39m \u001b[38;5;28;01mfrom\u001b[39;00m\u001b[38;5;250m \u001b[39m\u001b[34;01mIPython\u001b[39;00m\u001b[34;01m.\u001b[39;00m\u001b[34;01mdisplay\u001b[39;00m\u001b[38;5;250m \u001b[39m\u001b[38;5;28;01mimport\u001b[39;00m display, Markdown\n",
      "\u001b[31mModuleNotFoundError\u001b[39m: No module named 'google'"
     ]
    }
   ],
   "source": [
    "\n",
    "import google.generativeai as genai  # Use Gemini API\n",
    "from IPython.display import display, Markdown\n"
   ]
  },
  {
   "cell_type": "code",
   "execution_count": 2,
   "metadata": {},
   "outputs": [
    {
     "ename": "ModuleNotFoundError",
     "evalue": "No module named 'google'",
     "output_type": "error",
     "traceback": [
      "\u001b[31m---------------------------------------------------------------------------\u001b[39m",
      "\u001b[31mModuleNotFoundError\u001b[39m                       Traceback (most recent call last)",
      "\u001b[36mCell\u001b[39m\u001b[36m \u001b[39m\u001b[32mIn[2]\u001b[39m\u001b[32m, line 7\u001b[39m\n\u001b[32m      1\u001b[39m \u001b[38;5;66;03m### **Enhancing Workplace Productivity Using Advanced Prompting Techniques**\u001b[39;00m\n\u001b[32m      2\u001b[39m \n\u001b[32m      3\u001b[39m \u001b[38;5;66;03m# **Introduction**\u001b[39;00m\n\u001b[32m      4\u001b[39m \u001b[38;5;66;03m# This notebook demonstrates how to leverage advanced prompting techniques to optimize workflow,\u001b[39;00m\n\u001b[32m      5\u001b[39m \u001b[38;5;66;03m# automate tasks, and improve decision-making using a Large Language Model (LLM).\u001b[39;00m\n\u001b[32m----> \u001b[39m\u001b[32m7\u001b[39m \u001b[38;5;28;01mimport\u001b[39;00m\u001b[38;5;250m \u001b[39m\u001b[34;01mgoogle\u001b[39;00m\u001b[34;01m.\u001b[39;00m\u001b[34;01mgenerativeai\u001b[39;00m\u001b[38;5;250m \u001b[39m\u001b[38;5;28;01mas\u001b[39;00m\u001b[38;5;250m \u001b[39m\u001b[34;01mgenai\u001b[39;00m  \u001b[38;5;66;03m# Use Gemini API\u001b[39;00m\n\u001b[32m      8\u001b[39m \u001b[38;5;28;01mfrom\u001b[39;00m\u001b[38;5;250m \u001b[39m\u001b[34;01mIPython\u001b[39;00m\u001b[34;01m.\u001b[39;00m\u001b[34;01mdisplay\u001b[39;00m\u001b[38;5;250m \u001b[39m\u001b[38;5;28;01mimport\u001b[39;00m display, Markdown\n\u001b[32m     10\u001b[39m genai.configure(api_key=\u001b[33m\"\u001b[39m\u001b[33mYOUR_GEMINI_API_KEY\u001b[39m\u001b[33m\"\u001b[39m)  \u001b[38;5;66;03m# Replace with actual API key\u001b[39;00m\n",
      "\u001b[31mModuleNotFoundError\u001b[39m: No module named 'google'"
     ]
    }
   ],
   "source": [
    "### **Enhancing Workplace Productivity Using Advanced Prompting Techniques**\n",
    "\n",
    "# **Introduction**\n",
    "# This notebook demonstrates how to leverage advanced prompting techniques to optimize workflow,\n",
    "# automate tasks, and improve decision-making using a Large Language Model (LLM).\n",
    "\n",
    "import google.generativeai as genai  # Use Gemini API\n",
    "from IPython.display import display, Markdown\n",
    "\n",
    "genai.configure(api_key=\"YOUR_GEMINI_API_KEY\")  # Replace with actual API key\n",
    "\n",
    "def query_gemini(prompt):\n",
    "    \"\"\"Function to query Gemini API\"\"\"\n",
    "    response = genai.generate_text(prompt)\n",
    "    return response.result if response else \"Error generating response.\"\n",
    "\n",
    "# ## **1. Automating Professional Communication with Few-Shot Learning**\n",
    "display(Markdown(\"### Few-Shot Learning Example: Professional Email Generation\"))\n",
    "few_shot_prompt = \"\"\"\n",
    "Here are examplehins of professional emails:\n",
    "\n",
    "1. Subject: Follow-up on Project Update\n",
    "   Dear [Recipient],\n",
    "   I hope you're doing well. I wanted to follow up on the status of [Project]. Let me know if there's anything needed from my side.\n",
    "   Best regards, [Your Name]\n",
    "\n",
    "2. Subject: Request for Feedback on Report\n",
    "   Dear [Recipient],\n",
    "   I appreciate your time reviewing my report on [Topic]. Could you provide feedback at your convenience?\n",
    "   Best, [Your Name]\n",
    "\n",
    "Now, generate a similar email requesting feedback on my latest proposal.\n",
    "\"\"\"\n",
    "display(Markdown(f\"**Generated Email:**\\n\\n{query_gemini(few_shot_prompt)}\"))\n",
    "\n",
    "# ## **2. Structured Problem-Solving Using Chain-of-Thought (CoT) Prompting**\n",
    "display(Markdown(\"### Chain-of-Thought Prompting Example: Debugging a Slow Database Query\"))\n",
    "cot_prompt = \"\"\"\n",
    "A database query is running slower over time. Break down step by step why this might be happening and suggest solutions.\n",
    "\"\"\"\n",
    "display(Markdown(f\"**Response:**\\n\\n{query_gemini(cot_prompt)}\"))\n",
    "\n",
    "# ## **3. Improving Decision-Making with Self-Consistency**\n",
    "display(Markdown(\"### Self-Consistency Example: Selecting the Best Argument\"))\n",
    "self_consistency_prompt = \"\"\"\n",
    "Provide three different explanations for why AI-powered chatbots improve customer service. Then, select the most well-supported argument.\n",
    "\"\"\"\n",
    "display(Markdown(f\"**Response:**\\n\\n{query_gemini(self_consistency_prompt)}\"))\n",
    "\n",
    "# ## **4. Rapid Knowledge Acquisition Using Generate Knowledge Prompting**\n",
    "display(Markdown(\"### Generate Knowledge Prompting Example: Understanding Blockchain\"))\n",
    "generate_knowledge_prompt = \"\"\"\n",
    "First, summarize the key principles of blockchain technology. Then, explain its impact on financial security in simple terms.\n",
    "\"\"\"\n",
    "display(Markdown(f\"**Response:**\\n\\n{query_gemini(generate_knowledge_prompt)}\"))\n",
    "\n",
    "# ## **5. Automating Repetitive Calculations with Program-aided Language Model (PAL)**\n",
    "display(Markdown(\"### PAL Example: Generating a Python Script for Financial Calculations\"))\n",
    "pal_prompt = \"\"\"\n",
    "Write a Python script that calculates compound interest based on principal, rate, and time. Then, apply it to a scenario where an investment grows over 5 years.\n",
    "\"\"\"\n",
    "display(Markdown(f\"**Generated Script:**\\n\\n{query_gemini(pal_prompt)}\"))\n",
    "\n",
    "# ## **Conclusion**\n",
    "display(Markdown(\"\"\"\n",
    "### **Conclusion**\n",
    "This notebook demonstrates how advanced prompting techniques can enhance workplace productivity by automating routine tasks, structuring problem-solving, and improving decision-making.\n",
    "\"\"\"))\n"
   ]
  },
  {
   "cell_type": "code",
   "execution_count": null,
   "metadata": {},
   "outputs": [],
   "source": []
  }
 ],
 "metadata": {
  "kernelspec": {
   "display_name": "pe",
   "language": "python",
   "name": "python3"
  },
  "language_info": {
   "codemirror_mode": {
    "name": "ipython",
    "version": 3
   },
   "file_extension": ".py",
   "mimetype": "text/x-python",
   "name": "python",
   "nbconvert_exporter": "python",
   "pygments_lexer": "ipython3",
   "version": "3.12.3"
  }
 },
 "nbformat": 4,
 "nbformat_minor": 2
}
