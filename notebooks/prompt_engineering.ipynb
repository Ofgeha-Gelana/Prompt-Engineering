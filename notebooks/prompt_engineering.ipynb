{
 "cells": [
  {
   "cell_type": "code",
   "execution_count": 2,
   "metadata": {},
   "outputs": [
    {
     "name": "stderr",
     "output_type": "stream",
     "text": [
      "/home/ofge/Documents/icog/Prompt-Engineering/pe/lib/python3.12/site-packages/tqdm/auto.py:21: TqdmWarning: IProgress not found. Please update jupyter and ipywidgets. See https://ipywidgets.readthedocs.io/en/stable/user_install.html\n",
      "  from .autonotebook import tqdm as notebook_tqdm\n"
     ]
    }
   ],
   "source": [
    "import os\n",
    "from dotenv import load_dotenv\n",
    "import google.generativeai as genai\n"
   ]
  },
  {
   "cell_type": "code",
   "execution_count": 3,
   "metadata": {},
   "outputs": [],
   "source": [
    "load_dotenv()\n",
    "GEMINI_API_KEY = os.getenv(\"GEMINI_API_KEY\")\n",
    "genai.configure(api_key=GEMINI_API_KEY)\n",
    "genai.configure(api_key=GEMINI_API_KEY)\n",
    "model = genai.GenerativeModel('gemini-1.5-pro')"
   ]
  },
  {
   "cell_type": "code",
   "execution_count": 4,
   "metadata": {},
   "outputs": [
    {
     "name": "stdout",
     "output_type": "stream",
     "text": [
      "Imagine a regular computer bit like a light switch, it can be either on or off, representing 1 or 0.  A quantum bit, or qubit, is like a dimmer switch. It can be on, off, or a mixture of both at the same time. This \"both at once\" state is called superposition.\n",
      "\n",
      "Another key idea is entanglement. Imagine two of these dimmer switches linked together magically.  If you adjust one, the other instantly changes too, no matter how far apart they are.  This connection lets qubits influence each other in powerful ways.\n",
      "\n",
      "Because qubits can be in multiple states at once, a quantum computer can explore many possibilities simultaneously.  This allows it to solve certain types of problems, like factoring large numbers or simulating molecules, much faster than regular computers.\n",
      "\n",
      "It's still early days for quantum computing.  Building and controlling these \"dimmer switches\" is incredibly difficult, but if we succeed, it could revolutionize fields like medicine, materials science, and artificial intelligence.\n",
      "\n"
     ]
    }
   ],
   "source": [
    "# Define your prompt\n",
    "prompt = \"Explain quantum computing in simple terms. (e.g., no *, **, or other formatting symbols).\"\n",
    "\n",
    "# Generate a response\n",
    "response = model.generate_content(prompt)\n",
    "\n",
    "# Print the response\n",
    "print(response.text)"
   ]
  },
  {
   "cell_type": "code",
   "execution_count": null,
   "metadata": {},
   "outputs": [],
   "source": []
  },
  {
   "cell_type": "markdown",
   "metadata": {},
   "source": [
    "## Fundamental Prompting Techniques"
   ]
  },
  {
   "cell_type": "markdown",
   "metadata": {},
   "source": [
    "### 1. Instructional Prompts\n",
    "#### Description: Instructional prompts are used to provide step-by-step instructions for completing a task. They are useful for guiding the model to generate detailed and structured outputs.\n",
    "##### *Use Case*: Provide step-by-step instructions to bake a chocolate cake."
   ]
  },
  {
   "cell_type": "code",
   "execution_count": 7,
   "metadata": {},
   "outputs": [
    {
     "name": "stdout",
     "output_type": "stream",
     "text": [
      "Instructional Prompts Output:\n",
      "1. Preheat oven to 350°F (175°C).\n",
      "2. Grease and flour a 9x13 inch baking pan.  Alternatively, grease and flour two 9-inch round cake pans.\n",
      "3. In a large bowl, whisk together 2 cups all-purpose flour, 2 cups granulated sugar, ¾ cup unsweetened cocoa powder, 1 ½ teaspoons baking powder, 1 ½ teaspoons baking soda, and 1 teaspoon salt.\n",
      "4. Add 2 large eggs, 1 cup milk, ½ cup vegetable oil, 2 teaspoons vanilla extract, and 1 cup boiling water to the dry ingredients.  \n",
      "5. Beat with an electric mixer on medium speed for 2 minutes. The batter will be thin.\n",
      "6. Pour batter into the prepared pan(s).\n",
      "7. Bake for 30-35 minutes for a 9x13 inch pan, or 25-30 minutes for 9-inch round pans, or until a wooden skewer inserted into the center comes out clean.\n",
      "8. Let the cake cool in the pan for 10 minutes before inverting it onto a wire rack to cool completely.\n",
      "9. Frost and decorate as desired once the cake is completely cool. \n",
      "\n"
     ]
    }
   ],
   "source": [
    "# Instructional prompt\n",
    "prompt = \"\"\"\n",
    "Provide step-by-step instructions to bake a chocolate cake.\n",
    "\n",
    "1. Preheat the oven to 350°F (175°C).\n",
    "2. Grease and flour a cake pan.\n",
    "3. Mix flour, sugar, cocoa powder, baking powder, and salt in a bowl.\n",
    "4. Add eggs, milk, oil, and vanilla extract. Mix until smooth.\n",
    "5. Pour the batter into the prepared pan.\n",
    "6. Bake for 30-35 minutes or until a toothpick inserted into the center comes out clean.\n",
    "7. Let the cake cool before serving.\n",
    "(e.g., no *, **, or other formatting symbols)\n",
    "\"\"\"\n",
    "\n",
    "# Generate response\n",
    "response = model.generate_content(prompt)\n",
    "print(\"Instructional Prompts Output:\")\n",
    "print(response.text)"
   ]
  },
  {
   "cell_type": "markdown",
   "metadata": {},
   "source": [
    "### 2. Role Prompting\n",
    "\n",
    "**Description**: Role prompting involves asking the model to act as a specific role (e.g., a teacher, doctor, or chef). This helps tailor the response to the context of the role.\n",
    "\n",
    "##### *Use Case*: Ask the model to act as a history teacher and explain the causes of World War I."
   ]
  },
  {
   "cell_type": "code",
   "execution_count": 9,
   "metadata": {},
   "outputs": [
    {
     "name": "stdout",
     "output_type": "stream",
     "text": [
      "Role Prompting Output:\n",
      "Alright class, imagine Europe in 1914 as a powder keg just waiting for a spark.  There were four main problems, let's call them M.A.I.N., that made the situation so tense.\n",
      "\n",
      "M is for Militarism.  Many countries, especially Germany and Britain, were building up massive armies and navies.  They were competing to be the strongest, and this created a lot of suspicion and fear.  Everyone was ready for a fight.\n",
      "\n",
      "A is for Alliances.  Think of these as groups of friends who promised to help each other if they were attacked.  Europe was divided into two big alliances.  This meant that if one country went to war, their allies would jump in too, making a small conflict much bigger.\n",
      "\n",
      "I is for Imperialism.  Many European countries were building empires by taking over land in Africa and Asia.  This competition for colonies created rivalries and resentments.  Countries were fighting for resources and power.\n",
      "\n",
      "N is for Nationalism.  This is a strong feeling of pride in one's country, and a belief that your country is better than others.  This can lead to wanting to prove your nation's strength and expand its borders.  It also caused tensions within countries, like Austria-Hungary, which ruled over many different nationalities.\n",
      "\n",
      "So, we have this powder keg of militarism, alliances, imperialism, and nationalism.  Then, the spark happened: the assassination of Archduke Franz Ferdinand, the heir to the Austro-Hungarian throne, by a Serbian nationalist.  Austria-Hungary blamed Serbia and declared war.  Because of the alliances, other countries quickly got involved, and a small conflict exploded into a massive world war.\n",
      "\n"
     ]
    }
   ],
   "source": [
    "# Role prompting\n",
    "prompt = \"\"\"\n",
    "You are a history teacher. Explain the causes of World War I in simple terms.\n",
    "\n",
    "World War I was caused by a combination of factors, including militarism, alliances, imperialism, and nationalism. The assassination of Archduke Franz Ferdinand of Austria-Hungary in 1914 was the immediate trigger.\n",
    "(e.g., no *, **, or other formatting symbols)\n",
    "\"\"\"\n",
    "\n",
    "# Generate response\n",
    "response = model.generate_content(prompt)\n",
    "print(\"Role Prompting Output:\")\n",
    "print(response.text)"
   ]
  },
  {
   "cell_type": "code",
   "execution_count": null,
   "metadata": {},
   "outputs": [],
   "source": []
  },
  {
   "cell_type": "code",
   "execution_count": null,
   "metadata": {},
   "outputs": [],
   "source": []
  },
  {
   "cell_type": "markdown",
   "metadata": {},
   "source": [
    "### Advanced Prompt Engineering"
   ]
  },
  {
   "cell_type": "markdown",
   "metadata": {},
   "source": [
    "### 1. Few-Shot Learning\n",
    "#### Use Case: Customer Support Email Classification\n",
    "\n",
    "Classify customer support emails into categories like \"Billing,\" \"Technical Support,\" \"Account Issues,\" or \"General Inquiry.\""
   ]
  },
  {
   "cell_type": "code",
   "execution_count": 13,
   "metadata": {},
   "outputs": [
    {
     "name": "stdout",
     "output_type": "stream",
     "text": [
      "Output for Few-Shot Learning:\n",
      "General Inquiry\n",
      "\n"
     ]
    }
   ],
   "source": [
    "# Few-shot learning prompt\n",
    "prompt = \"\"\"\n",
    "Classify the following customer support emails into one of the categories: Billing, Technical Support, Account Issues, General Inquiry.\n",
    "\n",
    "Example 1:  \n",
    "Email: \"I can't log in to my account. It says my password is incorrect.\"  \n",
    "Category: Account Issues  \n",
    "\n",
    "Example 2:  \n",
    "Email: \"I was charged twice for my subscription this month. Can you refund the extra charge?\"  \n",
    "Category: Billing  \n",
    "\n",
    "Example 3:  \n",
    "Email: \"The app keeps crashing when I try to open it on my phone.\"  \n",
    "Category: Technical Support  \n",
    "\n",
    "Now classify this email:  \n",
    "Email: \"I want to know more about your premium subscription plans.\"  \n",
    "Category:\n",
    "\"\"\"\n",
    "\n",
    "response = model.generate_content(prompt)\n",
    "print(\"Output for Few-Shot Learning:\")\n",
    "print(response.text)"
   ]
  },
  {
   "cell_type": "markdown",
   "metadata": {},
   "source": [
    "- The model uses the provided examples to classify the new email. Since the email asks about subscription plans, it falls under the General Inquiry category. The output demonstrates how few-shot learning helps the model generalize from examples to new inputs."
   ]
  },
  {
   "cell_type": "markdown",
   "metadata": {},
   "source": [
    "### 2. Chain-of-Thought (CoT) Prompting\n",
    "\n",
    "#### **Use Case**: Solving Math Word Problems\n",
    "Solve a multi-step math problem by breaking it down into logical steps."
   ]
  },
  {
   "cell_type": "code",
   "execution_count": 15,
   "metadata": {},
   "outputs": [
    {
     "name": "stdout",
     "output_type": "stream",
     "text": [
      "Output for Chain-of-Thought Prompting:\n",
      "Your solution is perfectly correct!  The bakery generates $1800 in revenue per week.\n",
      "\n"
     ]
    }
   ],
   "source": [
    "# CoT prompt\n",
    "prompt = \"\"\"\n",
    "Solve the following problem step by step:  \n",
    "\n",
    "Problem: A bakery sells 120 cupcakes in a day. If each cupcake costs $2.50 and the bakery operates 6 days a week, how much revenue does the bakery generate in a week?  \n",
    "\n",
    "Step 1: Calculate daily revenue.  \n",
    "Daily revenue = Number of cupcakes per day × Cost per cupcake  \n",
    "Daily revenue = 120 × $2.50 = $300  \n",
    "\n",
    "Step 2: Calculate weekly revenue.  \n",
    "Weekly revenue = Daily revenue × Number of operating days per week  \n",
    "Weekly revenue = $300 × 6 = $1800  \n",
    "\n",
    "\"\"\"\n",
    "\n",
    "# Generate response\n",
    "response = model.generate_content(prompt)\n",
    "print(\"Output for Chain-of-Thought Prompting:\")\n",
    "print(response.text)"
   ]
  },
  {
   "cell_type": "markdown",
   "metadata": {},
   "source": [
    "**The model** follows the step-by-step reasoning provided in the prompt to solve the problem. It first calculates the daily revenue and then scales it up to weekly revenue. The output demonstrates how CoT helps the model handle complex, multi-step problems."
   ]
  },
  {
   "cell_type": "markdown",
   "metadata": {},
   "source": [
    "### 3. Self-Consistency\n",
    "\n",
    "#### Use Case: Fact Verification\n",
    "Verify the accuracy of a statement by cross-checking it with multiple reasoning paths."
   ]
  },
  {
   "cell_type": "code",
   "execution_count": 16,
   "metadata": {},
   "outputs": [
    {
     "name": "stdout",
     "output_type": "stream",
     "text": [
      "Output for Self-Consistency:\n",
      "Your provided reasoning is correct and clearly demonstrates two different ways to disprove the statement.  Both paths accurately lead to the conclusion that the Eiffel Tower is not in London.\n",
      "\n"
     ]
    }
   ],
   "source": [
    "# Self-consistency prompt\n",
    "prompt = \"\"\"\n",
    "Verify the following statement by providing two different reasoning paths:  \n",
    "\n",
    "Statement: \"The Eiffel Tower is located in London.\"  \n",
    "\n",
    "Reasoning Path 1:  \n",
    "The Eiffel Tower is a famous landmark in Paris, France. London is the capital of the United Kingdom. Therefore, the statement is false.  \n",
    "\n",
    "Reasoning Path 2:  \n",
    "The Eiffel Tower was built for the 1889 World's Fair in Paris. It has never been relocated to London. Thus, the statement is false.  \n",
    "\n",
    "Conclusion: Both reasoning paths confirm that the statement is false.  \n",
    "\"\"\"\n",
    "\n",
    "# Generate response\n",
    "response = model.generate_content(prompt)\n",
    "print(\"Output for Self-Consistency:\")\n",
    "print(response.text)"
   ]
  },
  {
   "cell_type": "markdown",
   "metadata": {},
   "source": [
    "**The model** provides two distinct reasoning paths to verify the statement. Both paths conclude that the Eiffel Tower is not in London, demonstrating how self-consistency ensures reliable and accurate results."
   ]
  },
  {
   "cell_type": "markdown",
   "metadata": {},
   "source": [
    "### 4. Generate Knowledge Prompting\n",
    "\n",
    "#### Use Case: Explaining Complex Concepts\n",
    "Explain a complex concept like \"quantum computing\" in simple terms."
   ]
  },
  {
   "cell_type": "code",
   "execution_count": 21,
   "metadata": {},
   "outputs": [
    {
     "name": "stdout",
     "output_type": "stream",
     "text": [
      "Output for Generate Knowledge Prompting:\n",
      "1.  Classical computers store information as bits, which are either 0 or 1.\n",
      "2.  Quantum computers use qubits, which can be 0, 1, or a combination of both simultaneously.\n",
      "3.  This \"both at once\" state is called superposition.\n",
      "4.  Superposition allows qubits to hold much more information than bits.\n",
      "5.  Another quantum phenomenon, entanglement, links two or more qubits together.\n",
      "6.  Entangled qubits share the same fate, even when separated.  Changing one instantly changes the others.\n",
      "7.  Quantum computers use quantum algorithms, special sets of instructions, to manipulate qubits and perform calculations.\n",
      "8.  Quantum computers are not meant to replace classical computers entirely.\n",
      "9.  They excel at specific tasks that are difficult or impossible for classical computers.\n",
      "10. Examples include breaking current encryption, simulating molecules for drug discovery, and optimizing complex systems.\n",
      "11. Building and maintaining quantum computers is challenging and expensive.\n",
      "12. The field of quantum computing is still in its early stages, but it holds immense potential.\n",
      "\n",
      "\n",
      "Explanation: Quantum computers are a revolutionary type of computer that harnesses the strange properties of quantum mechanics to solve complex problems. Unlike classical computers that use bits as the basic unit of information, quantum computers use qubits.  Qubits can be in a superposition, representing both 0 and 1 at the same time. This, along with entanglement, allows them to handle exponentially more information and perform calculations impossible for even the most powerful classical computers.  While still in development, quantum computing could revolutionize fields like medicine, materials science, and artificial intelligence.\n",
      "\n"
     ]
    }
   ],
   "source": [
    "# Generate knowledge prompt\n",
    "prompt = \"\"\"\n",
    "Explain quantum computing in simple terms by generating relevant knowledge points:  ((e.g., no *, **, or other formatting symbols).  \n",
    ")\n",
    "\n",
    "1. Quantum computing uses qubits instead of classical bits.  \n",
    "2. Qubits can exist in multiple states at once (superposition).  \n",
    "3. Quantum computers leverage entanglement to perform complex calculations faster.  \n",
    "4. They are useful for solving problems like cryptography, optimization, and drug discovery.  \n",
    "\n",
    "Explanation: Quantum computing is a new type of computing that uses qubits, which can be in multiple states at the same time. This allows quantum computers to solve certain problems much faster than traditional computers, especially in fields like cryptography and scientific research.  \n",
    "\"\"\"\n",
    "\n",
    "# Generate response\n",
    "response = model.generate_content(prompt)\n",
    "print(\"Output for Generate Knowledge Prompting:\")\n",
    "print(response.text)"
   ]
  },
  {
   "cell_type": "markdown",
   "metadata": {},
   "source": [
    "**The model** generates a concise explanation of quantum computing, breaking it down into key points. The output demonstrates how generate knowledge prompting helps the model provide clear and informative explanations."
   ]
  },
  {
   "cell_type": "markdown",
   "metadata": {},
   "source": [
    "### 5. Program-aided Language Model (PAL)\n",
    "\n",
    "#### Use Case: Writing Code to Solve a Problem\n",
    "Generate Python code to calculate the factorial of a number."
   ]
  },
  {
   "cell_type": "markdown",
   "metadata": {},
   "source": [
    "###### PAL prompt\n",
    "prompt = \"\"\"\n",
    "Write a Python function to calculate the factorial of a given number using recursion.  \n",
    "\n",
    "Code:  \n",
    "```python\n",
    "def factorial(n):  \n",
    "    if n == 0 or n == 1:  \n",
    "        return 1  \n",
    "    else:  \n",
    "        return n * factorial(n - 1)  \n",
    "\n",
    "# Example usage:  \n",
    "print(factorial(5))  # Output: 120  "
   ]
  },
  {
   "cell_type": "markdown",
   "metadata": {},
   "source": [
    "\n",
    "**Description of Output:**  \n",
    "The model generates a Python function to calculate the factorial of a number using recursion. The output demonstrates how PAL enables the model to write functional code for specific tasks.\n",
    "\n",
    "---\n",
    "\n",
    "### Summary of Outputs\n",
    "| **Technique**               | **Output Description**                                                                 |\n",
    "|-----------------------------|---------------------------------------------------------------------------------------|\n",
    "| Few-Shot Learning           | Classifies a new email as \"General Inquiry\" based on provided examples.               |\n",
    "| Chain-of-Thought (CoT)      | Solves a math problem step-by-step, calculating weekly revenue for a bakery.          |\n",
    "| Self-Consistency            | Verifies a false statement using two distinct reasoning paths.                        |\n",
    "| Generate Knowledge Prompting| Explains quantum computing in simple terms with key points.                           |\n",
    "| Program-aided Language Model| Generates Python code to calculate the factorial of a number using recursion.         |\n",
    "\n",
    "---\n",
    "\n"
   ]
  }
 ],
 "metadata": {
  "kernelspec": {
   "display_name": "pe",
   "language": "python",
   "name": "python3"
  },
  "language_info": {
   "codemirror_mode": {
    "name": "ipython",
    "version": 3
   },
   "file_extension": ".py",
   "mimetype": "text/x-python",
   "name": "python",
   "nbconvert_exporter": "python",
   "pygments_lexer": "ipython3",
   "version": "3.12.3"
  }
 },
 "nbformat": 4,
 "nbformat_minor": 2
}
